{
 "cells": [
  {
   "cell_type": "markdown",
   "metadata": {},
   "source": [
    "# Jupyter Notebook Tutorial"
   ]
  },
  {
   "cell_type": "markdown",
   "metadata": {},
   "source": [
    "## JHU Data Services\n",
    "### Website: [dataservices.library.jhu.edu](https://dataservices.library.jhu.edu/)\n",
    "### Contact: dataservices@jhu.edu"
   ]
  },
  {
   "cell_type": "markdown",
   "metadata": {
    "slideshow": {
     "slide_type": "slide"
    }
   },
   "source": [
    "This interactive tutorial covers the basics of using Jupyter Notebooks with Python. It includes screenshots, written instructions, and practice questions to prepare participants to use Jupyter Notebooks in JHU Data Services workshops. Before using this notebook, make sure to install Anaconda on your computer. Installation instructions can be found in our [GitHub repository](https://github.com/jhu-data-services/python-installation-instructions)."
   ]
  },
  {
   "cell_type": "markdown",
   "metadata": {},
   "source": [
    "## Sections in this notebook:   \n",
    "\n",
    "- [Open a Jupyter Notebook using Anaconda](#Open-a-Jupyter-Notebook-using-Anaconda)  \n",
    "- [Create a new notebook](#Create-a-new-notebook)   \n",
    "- [Add and remove cells](#Add-and-remove-cells)   \n",
    "- [Switch between code and markdown cell types](#Switch-between-code-and-markdown-cell-types)   \n",
    "- [Run cells](#Run-cells)   \n",
    "- [Format cells using Markdown syntax](#Format-cells-using-Markdown-syntax)   \n",
    "- [Magic functions](#Magic-functions)   \n",
    "- [Analyze and Visualize data](#Analyze-and-Visualize-data)   \n",
    "- [Appendix](#Appendix)\n",
    "\n",
    "\n",
    "\n",
    "\n"
   ]
  },
  {
   "cell_type": "markdown",
   "metadata": {},
   "source": [
    "## Open a Jupyter Notebook using Anaconda"
   ]
  },
  {
   "cell_type": "markdown",
   "metadata": {},
   "source": [
    "This tutorial uses the [Anaconda Individual Edition](https://www.anaconda.com/products/individual) to take advantage of the graphical user interface (GUI) to install and run Jupyter Notebooks. The Jupyter Notebook software can also be installed directly from [Project Jupyter](https://jupyter.org/install) and can be run using the command line.   \n",
    "\n",
    "After you have installed Anaconda Individual Edition (see the [installation page](https://www.anaconda.com/products/individual) and [user guide](https://docs.anaconda.com/anaconda/user-guide/) for more information), open the __Anaconda Navigator:__    "
   ]
  },
  {
   "cell_type": "markdown",
   "metadata": {},
   "source": [
    "![Screenshot of Anaconda Navigator](./Images/Tutorial/AnacondaNavigator.png) "
   ]
  },
  {
   "cell_type": "markdown",
   "metadata": {},
   "source": [
    "_Note: your version of Navigator might look different depending on version updates. You may also have different versions of the available applications._"
   ]
  },
  {
   "cell_type": "markdown",
   "metadata": {},
   "source": [
    "To open Jupyter Notebooks, navigate to the __Jupyter Notebook__ application (top-right box in the screenshot above) and click the blue __Launch__ button.   \n",
    "\n",
    "Jupyter Notebooks will now open in a new tab in your default web browser. It will open to a file browser that looks like this:   "
   ]
  },
  {
   "cell_type": "markdown",
   "metadata": {},
   "source": [
    "![Screenshot of Jupyter file browser](./Images/Tutorial/FileBrowser.png) "
   ]
  },
  {
   "cell_type": "markdown",
   "metadata": {},
   "source": [
    "Navigate to the directory where you want to create a new notebook (if opening an existing notebook, navigate to the directory where that notebook is saved). To open an existing notebook, click on the filename (file extension .ipynb). The notebook will open in a new tab in your web browser.  "
   ]
  },
  {
   "cell_type": "markdown",
   "metadata": {},
   "source": [
    "## Create a new notebook"
   ]
  },
  {
   "cell_type": "markdown",
   "metadata": {},
   "source": [
    "To create a new notebook, click __New__ in the upper-right corner. Choose your kernel, or programming language, from the drop-down menu. This tutorial will use Python 3.   "
   ]
  },
  {
   "cell_type": "markdown",
   "metadata": {},
   "source": [
    "![Screenshot of Jupyter create new notebook](./Images/Tutorial/CreateNew.png) "
   ]
  },
  {
   "cell_type": "markdown",
   "metadata": {},
   "source": [
    "This will open your new notebook in a new tab in your browser.     \n",
    "\n",
    "Start by giving your new notebook a descriptive title. Click the title at the top of the page (the default title is \"Untitled\") to rename your notebook. Type your new notebook name in the text box and click __Rename__."
   ]
  },
  {
   "cell_type": "markdown",
   "metadata": {},
   "source": [
    "![Screenshot of renaming a notebook](./Images/Tutorial/RenameNotebook.png) "
   ]
  },
  {
   "cell_type": "markdown",
   "metadata": {},
   "source": [
    "## Add and remove cells"
   ]
  },
  {
   "cell_type": "markdown",
   "metadata": {},
   "source": [
    "Your notebook starts with only one code cell. There are several ways to add more cells to a notebook:\n",
    "1. Click the __+__ sign button in the toolbar at the top of your notebook.\n",
    "2. Click the __Insert__ drop-down menu at the top of your notebook. Select __Insert Cell Above__ or __Insert Cell Below__ to add a new cell either above or below whichever cell is currently selected.\n",
    "3. Use keyboard shortcuts: the __A__ key inserts a new cell above your current selection; the __B__ key inserts a new cell below your current selection.   \n",
    "\n",
    "Try one of these methods to add a new cell below:  \n",
    "<br>"
   ]
  },
  {
   "cell_type": "markdown",
   "metadata": {},
   "source": [
    "To remove a cell, you can:\n",
    "1. Click the button across the top with the scissors icon.\n",
    "2. Click the __Edit__ drop-down menu and choose __Cut Cells__ or __Delete Cells__ to remove a selected cell.\n",
    "3. Use the keyboard shortcut __X__ to cut a cell or __DD__ (press the D key twice) to delete a selected cell.\n",
    "\n",
    "*Note: The* **cut** *function will remove a cell and copy it, making it available to paste elsewhere in your notebook. The* **delete** *function will remove a cell without copying it.*   \n",
    "\n",
    "Try one of these methods to remove the cell below:   "
   ]
  },
  {
   "cell_type": "code",
   "execution_count": null,
   "metadata": {},
   "outputs": [],
   "source": [
    "# remove this cell"
   ]
  },
  {
   "cell_type": "markdown",
   "metadata": {},
   "source": [
    "## Switch between code and markdown cell types"
   ]
  },
  {
   "cell_type": "markdown",
   "metadata": {},
   "source": [
    "When working with your notebook, you will likely want a mix of code cells, written in Python, and markdown cells, with narrative text to explain your analysis and results.   \n",
    "\n",
    "When creating a new cell, the default cell type is Code. You can change the cell type by clicking the drop-down menu along the top that says __Code__. When the cell is selcted, change the type to __Markdown__ using the menu.   \n",
    "\n",
    "Change a markdown cell back to code using the same method. The drop-down menu will say __Markdown__ when a markdown cell is selected. Click the menu and select __Code__ to change the cell type to code.\n",
    "\n",
    "You can also use keyboard shortcuts to change the type of a selected cell:   \n",
    "The __M__ key changes a cell to Markdown   \n",
    "The __Y__ key changes a cell to Code   \n",
    "\n",
    "Use either method to change the code cell below to Markdown, and the markdown cell below to Code.   "
   ]
  },
  {
   "cell_type": "code",
   "execution_count": null,
   "metadata": {},
   "outputs": [],
   "source": [
    "# change this cell to Markdown"
   ]
  },
  {
   "cell_type": "markdown",
   "metadata": {},
   "source": [
    "Change this cell to Code"
   ]
  },
  {
   "cell_type": "markdown",
   "metadata": {},
   "source": [
    "## Run cells"
   ]
  },
  {
   "cell_type": "markdown",
   "metadata": {},
   "source": [
    "Just as with creating and removing cells, there are several ways to run a cell in a Jupyter Notebook:\n",
    "1. Click the __Run__ button in the toolbar at the top of your notebook.\n",
    "2. Use the __Cell__ drop-down menu to choose an option:\n",
    "    1. Run Cells - runs selected cell\n",
    "    2. Run Cells and Select (or Insert) Below - runs selected cell and selects (or inserts a new) cell below\n",
    "    3. Run All - runs all cells in the notebook\n",
    "    4. Run All Above (or Below) - runs all cells above (or Below) the selected cell\n",
    "3. Use one of the keyboard shortcuts displayed next to each option in the __Cell__ drop-down menu (keyboard shortcuts are different on Windows vs. Mac).   \n",
    "\n",
    "Use any of these options to run the next five cells. Notice that:\n",
    "- Cells can contain multiple lines of code\n",
    "- Notebooks are run interactively, so code executed in one cell affects the code executed in later cells\n",
    "- Code cells can contain comments, define functions, and more, just like other Python development environments"
   ]
  },
  {
   "cell_type": "code",
   "execution_count": null,
   "metadata": {},
   "outputs": [],
   "source": [
    "# define a function to add 1 to a numeric input\n",
    "def add_one(num):\n",
    "    new_num = num + 1\n",
    "    return new_num"
   ]
  },
  {
   "cell_type": "code",
   "execution_count": null,
   "metadata": {},
   "outputs": [],
   "source": [
    "add_one(1)"
   ]
  },
  {
   "cell_type": "code",
   "execution_count": null,
   "metadata": {},
   "outputs": [],
   "source": [
    "three_plus_one = add_one(3)"
   ]
  },
  {
   "cell_type": "code",
   "execution_count": null,
   "metadata": {},
   "outputs": [],
   "source": [
    "three_plus_one"
   ]
  },
  {
   "cell_type": "code",
   "execution_count": null,
   "metadata": {},
   "outputs": [],
   "source": [
    "my_list = [1, 2, 3, 4, 5, 6, 7, 8, 9, 10]\n",
    "\n",
    "for index, item in enumerate(my_list):\n",
    "    my_list[index] = add_one(item)\n",
    "    \n",
    "my_list # each element should have increased by 1"
   ]
  },
  {
   "cell_type": "markdown",
   "metadata": {},
   "source": [
    "When running cells in a Jupyter Notebook, make sure you are running them in the correct order!\n",
    "<br><br>\n",
    "Notebooks should be designed to run from top to bottom, with all dependencies, libraries, and functions located at the top. This helps to avoid errors and makes sure there is no confusion about the order in which cells should be run."
   ]
  },
  {
   "cell_type": "markdown",
   "metadata": {},
   "source": [
    "## Format cells using Markdown syntax"
   ]
  },
  {
   "cell_type": "markdown",
   "metadata": {},
   "source": [
    "Jupyter Notebooks are a great tool for documenting and explaining your code through narrative text. To edit this text, Jupyter Notebooks use Markdown, a lightweight markup language for formatting plain text."
   ]
  },
  {
   "cell_type": "markdown",
   "metadata": {},
   "source": [
    "Common markdown elements for Jupyter Notebooks:   \n",
    "\n",
    "Element | Markdown Syntax\n",
    ":------- | :---------------\n",
    "Heading | `# H1` <br> `## H2` <br> `### H3` <br> (goes up to H6)\n",
    "Bold | `__two underscores__` or `**two asterisks**`\n",
    "Italic | `_one underscore_` or `*one asterisk*`\n",
    "Ordered list | `1. First item` <br> `2. Second item` <br> `3. Third item`\n",
    "Unordered list<br>(bullet points) | `- First item` <br> `- Second item` <br> `- Third item`\n",
    "Hyperlink | `[link name](URL)`\n",
    "Embed an image | `![alt text](image_filename.jpg)`\n",
    "Line break | Three spaces at the end of a line, or use the HTML `<br>` tag"
   ]
  },
  {
   "cell_type": "markdown",
   "metadata": {},
   "source": [
    "Add markdown syntax to format the text in the cells below:   \n",
    "_Note: you may have to double-click each cell in order to edit it_"
   ]
  },
  {
   "cell_type": "markdown",
   "metadata": {},
   "source": [
    "Create a heading here"
   ]
  },
  {
   "cell_type": "markdown",
   "metadata": {},
   "source": [
    "Make this text bold"
   ]
  },
  {
   "cell_type": "markdown",
   "metadata": {},
   "source": [
    "Make a single word in this cell italic"
   ]
  },
  {
   "cell_type": "markdown",
   "metadata": {},
   "source": [
    "Create a list (ordered or unordered) for these items: \"Complete Jupyter Notebooks tutorial,\" \"Start using Jupyter Notebooks,\" \"Become a reproducible research expert\""
   ]
  },
  {
   "cell_type": "markdown",
   "metadata": {},
   "source": [
    "Add a hyperlink to the JHU Data Services website: `https://dataservices.library.jhu.edu/`"
   ]
  },
  {
   "cell_type": "markdown",
   "metadata": {},
   "source": [
    "For more on Markdown and additional syntax for formatting plain text, see:\n",
    "- Markdown Guide - [markdownguide.org](https://www.markdownguide.org/)\n",
    "- Jupyter Notebook documentation - [Markdown Cells](https://jupyter-notebook.readthedocs.io/en/stable/examples/Notebook/Working%20With%20Markdown%20Cells.html#)\n",
    "\n",
    "You can also double-click any of the markdown cells in this document to see the syntax used to format each cell."
   ]
  },
  {
   "cell_type": "markdown",
   "metadata": {},
   "source": [
    "## Magic functions"
   ]
  },
  {
   "cell_type": "markdown",
   "metadata": {},
   "source": [
    "Magic functions, also called magic commands, are a component of IPython, the Jupyter kernel that allows you to use Python interactively within a Jupyter Notebook. Magic functions can help make your data analysis more efficient.\n",
    "<br><br>\n",
    "The syntax to call a magic function is % for line magics, and %% for cell magics.\n",
    "<br><br>\n",
    "You can learn more about magic functions from:\n",
    "- [The Python Data Science Handbook](https://jakevdp.github.io/PythonDataScienceHandbook/01.03-magic-commands.html)\n",
    "- [The IPython documentation on magic commands](https://ipython.readthedocs.io/en/stable/interactive/magics.html)\n",
    "- This article from [Towards Data Science](https://towardsdatascience.com/) titled [The Top 5 Magic Commands for Jupyter Notebooks](https://towardsdatascience.com/the-top-5-magic-commands-for-jupyter-notebooks-2bf0c5ae4bb8)     \n",
    "\n",
    "_Note: Magic functions are part of the Python kernel and may not be available when using Jupyter Notebooks with other programming languages._ "
   ]
  },
  {
   "cell_type": "code",
   "execution_count": null,
   "metadata": {},
   "outputs": [],
   "source": [
    "# run this cell to bring up documentation on magic functions\n",
    "%magic"
   ]
  },
  {
   "cell_type": "code",
   "execution_count": null,
   "metadata": {},
   "outputs": [],
   "source": [
    "# run this cell to list all of the available magic functions\n",
    "%lsmagic"
   ]
  },
  {
   "cell_type": "markdown",
   "metadata": {},
   "source": [
    "## Analyze and Visualize data"
   ]
  },
  {
   "cell_type": "markdown",
   "metadata": {},
   "source": [
    "Jupyter Notebooks are a great tool for data analysis and visualization. Below is a sample workflow for importing a dataset, exploring data, and visualizing data. Feel free to add to this analysis or choose a new dataset to explore and visualize."
   ]
  },
  {
   "cell_type": "markdown",
   "metadata": {},
   "source": [
    "This example uses data from the [Seaborn library](https://seaborn.pydata.org/), a data visualization library with 18 built-in datasets.\n",
    "\n",
    "This example will be using the `tips` dataset, which is a collection of tips received by a restaurant server. See all available datasets in the Seaborn library by importing the library and running `sns.get_dataset_names()` in a new code cell."
   ]
  },
  {
   "cell_type": "markdown",
   "metadata": {},
   "source": [
    "### Research question\n",
    "Is it better for this restaurant server to work a lunch shift or a dinner shift?"
   ]
  },
  {
   "cell_type": "markdown",
   "metadata": {},
   "source": [
    "### Notebook setup"
   ]
  },
  {
   "cell_type": "markdown",
   "metadata": {},
   "source": [
    "You will need several libraries installed in order to run this analysis:\n",
    "- pandas\n",
    "- seaborn\n",
    "- matplotlib\n",
    "\n",
    "If you need to install any of these libraries, see the Anaconda documentation for [managing packages using the Navigator interface](https://docs.anaconda.com/anaconda/navigator/getting-started/#navigator-managing-packages) or this [tutorial for installing Pandas using Anaconda](https://docs.anaconda.com/anaconda/navigator/tutorials/pandas/).   \n",
    "\n",
    "These packages can also be installed in a command-line interface using `pip` or `conda`."
   ]
  },
  {
   "cell_type": "code",
   "execution_count": null,
   "metadata": {},
   "outputs": [],
   "source": [
    "# import required libraries\n",
    "import pandas as pd\n",
    "import seaborn as sns\n",
    "from matplotlib import pyplot as plt\n",
    "%matplotlib inline"
   ]
  },
  {
   "cell_type": "markdown",
   "metadata": {},
   "source": [
    "### Create a dataframe"
   ]
  },
  {
   "cell_type": "code",
   "execution_count": null,
   "metadata": {},
   "outputs": [],
   "source": [
    "tips = sns.load_dataset('tips')"
   ]
  },
  {
   "cell_type": "markdown",
   "metadata": {},
   "source": [
    "### Explore the dataframe"
   ]
  },
  {
   "cell_type": "markdown",
   "metadata": {},
   "source": [
    "The `tips` dataset was collected from a restaurant server's tips in 1990. See more about the dataset [on Kaggle](https://www.kaggle.com/ranjeetjain3/seaborn-tips-dataset).\n",
    "\n",
    "Data dictionary:\n",
    "\n",
    "Variable Name | Definition\n",
    ":-------: | :---------------:\n",
    "total_bill | total bill, in USD\n",
    "tip | added tip, in USD\n",
    "sex | sex of person paying for the meal (possible values: Male; Female)\n",
    "smoker | smoker in party? 0 = no, 1 = yes\n",
    "day | day of the week\n",
    "time | shift (possible values: Dinner; Lunch)\n",
    "size | size of the party"
   ]
  },
  {
   "cell_type": "code",
   "execution_count": null,
   "metadata": {
    "scrolled": false
   },
   "outputs": [],
   "source": [
    "tips.head(10) # view the first 10 rows of the data"
   ]
  },
  {
   "cell_type": "code",
   "execution_count": null,
   "metadata": {},
   "outputs": [],
   "source": [
    "tips.dtypes # see the data type of each column"
   ]
  },
  {
   "cell_type": "code",
   "execution_count": null,
   "metadata": {},
   "outputs": [],
   "source": [
    "tips.shape # see the number of rows and columns in this dataframe"
   ]
  },
  {
   "cell_type": "markdown",
   "metadata": {},
   "source": [
    "Let's add a new column, tip_percent, that represents the percentage of the total bill that each customer tipped. Tip percentages will be rounded up to two decimal places."
   ]
  },
  {
   "cell_type": "code",
   "execution_count": null,
   "metadata": {},
   "outputs": [],
   "source": [
    "tips['tip_percent'] = tips['tip'] / tips['total_bill']\n",
    "tips['tip_percent'] = round(tips['tip_percent'], 2)"
   ]
  },
  {
   "cell_type": "code",
   "execution_count": null,
   "metadata": {},
   "outputs": [],
   "source": [
    "tips.head(10)"
   ]
  },
  {
   "cell_type": "markdown",
   "metadata": {},
   "source": [
    "### Analyze and Visualize the data"
   ]
  },
  {
   "cell_type": "markdown",
   "metadata": {},
   "source": [
    "Let's start thinking about our research question: Is it better for this server to work a lunch shift or a dinner shift? There are many ways we could answer this question. For this analysis, we will look at which shift yields higher tip percentages, and which shift yields more tip money."
   ]
  },
  {
   "cell_type": "markdown",
   "metadata": {},
   "source": [
    "#### Which shift yields higher tip percentages?"
   ]
  },
  {
   "cell_type": "code",
   "execution_count": null,
   "metadata": {},
   "outputs": [],
   "source": [
    "# create two new dataframes, one for lunch shift and one for dinner shift\n",
    "lunch = tips[tips.time == 'Lunch']\n",
    "dinner = tips[tips.time == 'Dinner']"
   ]
  },
  {
   "cell_type": "code",
   "execution_count": null,
   "metadata": {},
   "outputs": [],
   "source": [
    "# create histograms to visualize distribution of tip percentage for each shift\n",
    "sns.set_style('ticks')\n",
    "sns.displot(data=lunch, x='tip_percent')\n",
    "plt.title('Distribution of tip percentages, Lunch shift')"
   ]
  },
  {
   "cell_type": "code",
   "execution_count": null,
   "metadata": {},
   "outputs": [],
   "source": [
    "sns.displot(data=dinner, x='tip_percent')\n",
    "plt.title('Distribution of tip percentages, Dinner shift')"
   ]
  },
  {
   "cell_type": "markdown",
   "metadata": {},
   "source": [
    "We can plot these graphs on the same axes using the full `tips` dataset, to more closely compare distribution of tip percentage:"
   ]
  },
  {
   "cell_type": "code",
   "execution_count": null,
   "metadata": {},
   "outputs": [],
   "source": [
    "sns.displot(data=tips, x='tip_percent', hue='time', kind='kde')\n",
    "plt.title('Distribution of tip percentages, Lunch and Dinner shifts')"
   ]
  },
  {
   "cell_type": "markdown",
   "metadata": {},
   "source": [
    "From these three graphs, we can see the majority of tips for both Lunch and Dinner shifts seem to be around 15%. Let's create a boxplot to compare these shifts more closely."
   ]
  },
  {
   "cell_type": "code",
   "execution_count": null,
   "metadata": {},
   "outputs": [],
   "source": [
    "plt.figure(figsize=(18,8))\n",
    "sns.set_theme(style='whitegrid')\n",
    "sns.boxplot(data=tips, x='tip_percent', y='time')\n",
    "plt.title('Distribution of tip percentages, Lunch and Dinner shifts')"
   ]
  },
  {
   "cell_type": "markdown",
   "metadata": {},
   "source": [
    "From the boxplots, we can see that the median tip percentage is higher during Dinner shift. Let's calculate the median percentages (50th percentile) and the mean tip percentage for each shift below."
   ]
  },
  {
   "cell_type": "code",
   "execution_count": null,
   "metadata": {},
   "outputs": [],
   "source": [
    "# calculate tip percentage summary statistics for Lunch shift\n",
    "lunch['tip_percent'].describe(percentiles=[.5])"
   ]
  },
  {
   "cell_type": "code",
   "execution_count": null,
   "metadata": {},
   "outputs": [],
   "source": [
    "# calculate tip percentage summary statistics for Dinner shift\n",
    "dinner['tip_percent'].describe(percentiles=[.5])"
   ]
  },
  {
   "cell_type": "markdown",
   "metadata": {},
   "source": [
    "Looking at tip percentage, there does not seem to be a large difference between Lunch shift and Dinner shift. Though the median tip percentage for Dinner shift is higher (16% compared to 15% at Lunch shift), the mean tip percentage is slightly higher during Lunch shift (16.4% compared to 16% at Dinner shift)."
   ]
  },
  {
   "cell_type": "markdown",
   "metadata": {},
   "source": [
    "What might be more important than the percentage of each bill the server is being tipped, is the money the server is actually making in tips for each shift. Let's switch our focus to tip money, using the `tip` column of our dataset."
   ]
  },
  {
   "cell_type": "markdown",
   "metadata": {},
   "source": [
    "#### Which shift yields higher tip money?"
   ]
  },
  {
   "cell_type": "code",
   "execution_count": null,
   "metadata": {},
   "outputs": [],
   "source": [
    "# visualize distribution of lunch and dinner tips\n",
    "sns.set_style('ticks')\n",
    "sns.displot(data=tips, x='tip', hue='time', kind='kde')\n",
    "plt.title('Distribution of tip money, Lunch and Dinner shifts')\n",
    "plt.xlabel('tip money ($)')"
   ]
  },
  {
   "cell_type": "markdown",
   "metadata": {},
   "source": [
    "At a glance, we can see that the majority of tips for Dinner shift seem to be just under 4.00 USD, while tips for Lunch shift peak closer to 2.00 USD."
   ]
  },
  {
   "cell_type": "markdown",
   "metadata": {},
   "source": [
    "Once again, let's create boxplots to compare the distribution of tip money for each shift."
   ]
  },
  {
   "cell_type": "code",
   "execution_count": null,
   "metadata": {},
   "outputs": [],
   "source": [
    "plt.figure(figsize=(18,8))\n",
    "sns.set_theme(style='whitegrid')\n",
    "sns.boxplot(data=tips, x='tip', y='time')\n",
    "plt.title('Distribution of tip money, Lunch and Dinner shifts')\n",
    "plt.xlabel('tip money ($)')"
   ]
  },
  {
   "cell_type": "code",
   "execution_count": null,
   "metadata": {},
   "outputs": [],
   "source": [
    "# calculate tip money summary statistics for Lunch shift\n",
    "lunch['tip'].describe(percentiles=[.5])"
   ]
  },
  {
   "cell_type": "code",
   "execution_count": null,
   "metadata": {},
   "outputs": [],
   "source": [
    "# calculate tip money summary statistics for Lunch shift\n",
    "dinner['tip'].describe(percentiles=[.5])"
   ]
  },
  {
   "cell_type": "markdown",
   "metadata": {},
   "source": [
    "We can see from the above boxplots and summary statistics that Dinner shift yields higher tip money on average (median and mean) than Lunch shift.\n",
    "\n",
    "Lunch shift yields a mean tip of **2.73 USD** per bill (median tip of 2.25 USD). Dinner shift yields a mean tip of **3.10 USD** per bill (median 3.00 USD)."
   ]
  },
  {
   "cell_type": "markdown",
   "metadata": {},
   "source": [
    "How can it be that this server gets higher tip percentages during Lunch shift, but makes more tip money during Dinner shift? One possible explanation is that dinner bills are higher than lunch bills. Let's look at total bill in USD:"
   ]
  },
  {
   "cell_type": "code",
   "execution_count": null,
   "metadata": {},
   "outputs": [],
   "source": [
    "# calculate summary statistics for total bill, Lunch shift\n",
    "lunch['total_bill'].describe()"
   ]
  },
  {
   "cell_type": "code",
   "execution_count": null,
   "metadata": {},
   "outputs": [],
   "source": [
    "# calculate summary statistics for total bill, Dinner shift\n",
    "dinner['total_bill'].describe()"
   ]
  },
  {
   "cell_type": "markdown",
   "metadata": {},
   "source": [
    "We can see from the summary statistics that our hypothesis is correct, customer bills during Dinner shift are higher on average (mean = 20.80 USD) than customer bills during Lunch shift (mean = 17.17 USD)."
   ]
  },
  {
   "cell_type": "markdown",
   "metadata": {},
   "source": [
    "#### Results: Which shift is better for this server?\n",
    "Based on the above analysis of tip percentage and tip money for Lunch and Dinner shifts, it seems that it is better for this server to work a Dinner shift, as they will make more tip money on average than working a Lunch shift."
   ]
  },
  {
   "cell_type": "markdown",
   "metadata": {},
   "source": [
    "***"
   ]
  },
  {
   "cell_type": "markdown",
   "metadata": {},
   "source": [
    "You have reached the end of this introductory tutorial.\n",
    "<br><br>\n",
    "We hope you have become more comfortable with Jupyter Notebooks and understand how Jupyter Notebooks allow you to explore, analyze, and visualize data in an interactive and reproducible environment."
   ]
  },
  {
   "cell_type": "markdown",
   "metadata": {},
   "source": [
    "### About this tutorial\n",
    "This tutorial was created using Jupyter Notebooks version 6.1.4. Screenshots for using Anaconda and Jupyter Notebooks were taken in Anaconda Navigator version 1.10.0 and Jupyter Notebook version 6.1.4.   \n",
    "\n",
    "### Terms of Use \n",
    "This material is licensed under a [Creative Commons Attribution-NonCommercial 4.0 International License (CC BY-NC 4.0)](https://creativecommons.org/licenses/by-nc/4.0/) and may be shared for non-commerical purposes with proper attribution to the author. Please cite this material as:\n",
    "\n",
    "> Johns Hopkins University Data Services. (2021). Jupyter Notebook Tutorial. [https://github.com/jhu-data-services/python-installation-instructions/tree/main/jupyter-notebook-tutorial](https://github.com/jhu-data-services/python-installation-instructions/tree/main/jupyter-notebook-tutorial)\n",
    "\n",
    "The images and data used in this document may have other licensing and terms of use."
   ]
  },
  {
   "cell_type": "markdown",
   "metadata": {},
   "source": [
    "***"
   ]
  },
  {
   "cell_type": "markdown",
   "metadata": {},
   "source": [
    "## Appendix"
   ]
  },
  {
   "cell_type": "markdown",
   "metadata": {},
   "source": [
    "Below are additional resources to help you make the most of Jupyter Notebooks."
   ]
  },
  {
   "cell_type": "markdown",
   "metadata": {},
   "source": [
    "### Jupyter Project documentation:\n",
    "[https://jupyter.readthedocs.io](https://jupyter.readthedocs.io/en/latest/)"
   ]
  },
  {
   "cell_type": "markdown",
   "metadata": {},
   "source": [
    "### Jupyter Notebooks documentation:\n",
    "[https://jupyter-notebook.readthedocs.io](https://jupyter-notebook.readthedocs.io/en/latest/?badge=latest)"
   ]
  },
  {
   "cell_type": "markdown",
   "metadata": {},
   "source": [
    "### Jupyter Notebook examples:\n",
    "[A Gallery of Interesting Jupyter Notebooks](https://github.com/jupyter/jupyter/wiki/A-gallery-of-interesting-Jupyter-Notebooks) on GitHub"
   ]
  },
  {
   "cell_type": "markdown",
   "metadata": {},
   "source": [
    "### Common keyboard shortcuts:"
   ]
  },
  {
   "cell_type": "markdown",
   "metadata": {},
   "source": [
    "Shortcut | Function\n",
    ":-------: | :---------------:\n",
    "A | Insert cell above\n",
    "B | Insert cell below\n",
    "DD | Delete cell\n",
    "X | Cut cell\n",
    "Z | Undo delete or cut cell\n",
    "C | Copy cell\n",
    "V | Paste cell\n",
    "M | Change cell type to Markdown\n",
    "Y | Change cell type to Code"
   ]
  }
 ],
 "metadata": {
  "kernelspec": {
   "display_name": "Python 3",
   "language": "python",
   "name": "python3"
  },
  "language_info": {
   "codemirror_mode": {
    "name": "ipython",
    "version": 3
   },
   "file_extension": ".py",
   "mimetype": "text/x-python",
   "name": "python",
   "nbconvert_exporter": "python",
   "pygments_lexer": "ipython3",
   "version": "3.7.4"
  }
 },
 "nbformat": 4,
 "nbformat_minor": 2
}
